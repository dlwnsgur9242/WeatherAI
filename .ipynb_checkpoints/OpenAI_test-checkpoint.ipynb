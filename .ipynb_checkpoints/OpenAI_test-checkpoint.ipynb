{
 "cells": [
  {
   "cell_type": "code",
   "execution_count": 1,
   "id": "b9f5e282",
   "metadata": {},
   "outputs": [
    {
     "name": "stdout",
     "output_type": "stream",
     "text": [
      "gpt-3.5-turbo-16k-0613\n"
     ]
    }
   ],
   "source": [
    "import openai\n",
    "import os\n",
    "\n",
    "# API 키 설정\n",
    "openai.api_key = os.environ[\"OPENAI_API_KEY\"]\n",
    "\n",
    "# 모든 OpenAI API의 모델 리스트를 요청해 가져오기\n",
    "models = openai.Model.list()\n",
    "\n",
    "# 가져온 모델 리스트 출력하기\n",
    "print(models[\"data\"][0]['id']) # 모델 리스트 중 첫 번째 항목의 ID 출력\n",
    "# print(models[\"data\"]) # 모델 리스트 전체 정보 출력"
   ]
  },
  {
   "cell_type": "code",
   "execution_count": null,
   "id": "9a705bc3",
   "metadata": {},
   "outputs": [],
   "source": []
  }
 ],
 "metadata": {
  "kernelspec": {
   "display_name": "Python 3 (ipykernel)",
   "language": "python",
   "name": "python3"
  },
  "language_info": {
   "codemirror_mode": {
    "name": "ipython",
    "version": 3
   },
   "file_extension": ".py",
   "mimetype": "text/x-python",
   "name": "python",
   "nbconvert_exporter": "python",
   "pygments_lexer": "ipython3",
   "version": "3.11.5"
  }
 },
 "nbformat": 4,
 "nbformat_minor": 5
}
