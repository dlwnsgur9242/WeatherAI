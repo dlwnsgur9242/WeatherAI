{
 "cells": [
  {
   "cell_type": "code",
   "execution_count": 44,
   "id": "fff996cd",
   "metadata": {},
   "outputs": [],
   "source": [
    "import requests\n",
    "\n",
    "url = \"http://api.weatherapi.com/v1/current.json\" # 현재 날씨를 위한 요청\n",
    "\n",
    "parameters = {\n",
    "    \"key\": WEATHER_API_KEY, # API 키 지정\n",
    "    \"q\": \"Seoul\", # 서울의 날씨\n",
    "}\n",
    "\n",
    "r = requests.get(url, params=parameters)"
   ]
  },
  {
   "cell_type": "code",
   "execution_count": 27,
   "id": "3650b11b",
   "metadata": {},
   "outputs": [
    {
     "name": "stdout",
     "output_type": "stream",
     "text": [
      "{'location': {'name': 'Seoul', 'region': '', 'country': 'South Korea', 'lat': 37.57, 'lon': 127.0, 'tz_id': 'Asia/Seoul', 'localtime_epoch': 1710265233, 'localtime': '2024-03-13 2:40'}, 'current': {'last_updated_epoch': 1710264600, 'last_updated': '2024-03-13 02:30', 'temp_c': 2.0, 'temp_f': 35.6, 'is_day': 0, 'condition': {'text': '화창함', 'icon': '//cdn.weatherapi.com/weather/64x64/night/113.png', 'code': 1000}, 'wind_mph': 2.5, 'wind_kph': 4.0, 'wind_degree': 290, 'wind_dir': 'WNW', 'pressure_mb': 1019.0, 'pressure_in': 30.09, 'precip_mm': 0.0, 'precip_in': 0.0, 'humidity': 64, 'cloud': 0, 'feelslike_c': 0.4, 'feelslike_f': 32.7, 'vis_km': 10.0, 'vis_miles': 6.0, 'uv': 1.0, 'gust_mph': 6.0, 'gust_kph': 9.6}}\n"
     ]
    }
   ],
   "source": [
    "import requests\n",
    "import os\n",
    "\n",
    "WEATHER_API_KEY = os.environ[\"WEATHER_API_KEY\"]\n",
    "city = \"Seoul\" # 도시는 서울로 지정\n",
    "lang_code = \"ko\"\n",
    "\n",
    "url = \"http://api.weatherapi.com/v1/current.json\" # 현재 날씨를 위한 요청\n",
    "\n",
    "parameters = {\n",
    "    \"key\": WEATHER_API_KEY, # API 키 지정\n",
    "    \"q\": city,\n",
    "    \"lang\": lang_code\n",
    "}\n",
    "r = requests.get(url, params=parameters)\n",
    "current_weather = r.json()\n",
    "print(current_weather)"
   ]
  },
  {
   "cell_type": "code",
   "execution_count": 28,
   "id": "89a235c0",
   "metadata": {},
   "outputs": [
    {
     "name": "stdout",
     "output_type": "stream",
     "text": [
      "현재(2024-03-13 2:40) Seoul의 날씨 정보: 화창함, 섭씨 2.0도, 화씨 35.6도\n"
     ]
    }
   ],
   "source": [
    "name = current_weather['location']['name']\n",
    "localtime = current_weather['location']['localtime']\n",
    "temp_c = current_weather['current']['temp_c']\n",
    "temp_f = current_weather['current']['temp_f']\n",
    "condition = current_weather['current']['condition']['text']\n",
    "\n",
    "print(f\"현재({localtime}) {name}의 날씨 정보: {condition}, 섭씨 {temp_c}도, 화씨 {temp_f}도\")"
   ]
  },
  {
   "cell_type": "code",
   "execution_count": 39,
   "id": "9a53dedf",
   "metadata": {},
   "outputs": [],
   "source": [
    "import requests\n",
    "import os\n",
    "import json\n",
    "import re\n",
    "\n",
    "def get_current_weather(location, unit=\"섭씨\"):\n",
    "    \n",
    "    reg = re.compile(r'[a-zA-Z]') # 영어 입력인지를 검사하는 정규식\n",
    "    \n",
    "    if reg.match(location): # 영어로 도시 이름을 지정한 경우\n",
    "        city = location # 영어 도시 이름을 바로 지정\n",
    "    else: # 영어로 지정하지 않은 경우\n",
    "        city_names = {\"서울\": \"Seoul\", \"인천\": \"Incheon\", \"대전\": \"Daejeon\",\n",
    "                      \"대구\": \"Daegu\", \"부산\": \"Busan\", \"광주\": \"Gwangju\",\n",
    "                      \"수원\": \"Suwon\", \"파리\": \"Paris\", \"뉴욕\": \"New York\"}\n",
    "        city = city_names[location] # 한글 도시 이름을 영어로 변경\n",
    "        \n",
    "    WEATHER_API_KEY = os.environ[\"WEATHER_API_KEY\"] # API 키 지정\n",
    "    \n",
    "    url = \"http://api.weatherapi.com/v1/current.json\"\n",
    "    parameters = {\"key\":WEATHER_API_KEY, \"q\":city}\n",
    "    \n",
    "    r = requests.get(url, params=parameters)\n",
    "    current_weather = r.json()\n",
    "    \n",
    "    name = current_weather['location']['name'] # 설정 지역\n",
    "    localtime = current_weather['location']['localtime'] # 날짜 및 시각\n",
    "    temp_c = current_weather['current']['temp_c'] # 섭씨온도\n",
    "    temp_f = current_weather['current']['temp_f'] # 화씨온도\n",
    "    condition_text = current_weather['current']['condition']['text'] # 날씨 상태\n",
    "    \n",
    "    # unit 지정에 따라서 섭씨온도 혹은 화씨온도를 지정\n",
    "    if unit == \"섭씨\":\n",
    "        temp = temp_c\n",
    "    elif unit == \"화씨\":\n",
    "        temp = temp_f\n",
    "    else:\n",
    "        unit == \"섭씨\"\n",
    "        temp = temp_c\n",
    "        \n",
    "        \n",
    "    weather_info = {\n",
    "        \"location\": name,\n",
    "        \"temperature\": temp,\n",
    "        \"unit\": unit,\n",
    "        \"current weather\": condition_text,\n",
    "        \"local time\": localtime\n",
    "    }\n",
    "    \n",
    "    return json.dumps(weather_info, ensure_ascii=False) # JSON 형식으로 반환"
   ]
  },
  {
   "cell_type": "code",
   "execution_count": 30,
   "id": "618f4086",
   "metadata": {},
   "outputs": [
    {
     "data": {
      "text/plain": [
       "'{\"location\": \"Seoul\", \"temperature\": 2.0, \"unit\": \"섭씨\", \"current weather\": \"Clear\", \"local time\": \"2024-03-13 2:40\"}'"
      ]
     },
     "execution_count": 30,
     "metadata": {},
     "output_type": "execute_result"
    }
   ],
   "source": [
    "get_current_weather('서울')"
   ]
  },
  {
   "cell_type": "code",
   "execution_count": 31,
   "id": "5a7f2e2e",
   "metadata": {},
   "outputs": [
    {
     "data": {
      "text/plain": [
       "'{\"location\": \"Paris\", \"temperature\": 11.0, \"unit\": \"섭씨\", \"current weather\": \"Moderate rain\", \"local time\": \"2024-03-12 18:42\"}'"
      ]
     },
     "execution_count": 31,
     "metadata": {},
     "output_type": "execute_result"
    }
   ],
   "source": [
    "get_current_weather('파리')"
   ]
  },
  {
   "cell_type": "code",
   "execution_count": 32,
   "id": "234df647",
   "metadata": {},
   "outputs": [],
   "source": [
    "import openai\n",
    "import os\n",
    "\n",
    "# API 키 설정\n",
    "openai.api_key = os.environ[\"OPENAI_API_KEY\"]\n",
    "\n",
    "# Chat Completion API를 이용해 사용자 입력에 따라 함수를 호출하고 응답하는 함수\n",
    "def run_conversation(user_query):\n",
    "    # 사용자 입력\n",
    "    messages = [{\"role\":\"user\", \"content\":user_query}]\n",
    "    \n",
    "    # 함수 정보 입력\n",
    "    functions = [\n",
    "        {\n",
    "            \"name\":\"get_current_weather\",\n",
    "            \"description\": \"도시 이름을 입력해 현재 날씨, 날짜, 시각, 몇 시인지 가져오기\",\n",
    "            \"parameters\": {\n",
    "                \"type\": \"object\",\n",
    "                \"properties\":{\n",
    "                    \"location\": {\n",
    "                        \"type\": \"string\",\n",
    "                        \"description\": \"도시 이름, 예를 들면, 서울, 부산, 대전\",\n",
    "                    },\n",
    "                    \"unit\": {\n",
    "                        \"type\": \"string\",\n",
    "                        \"enum\": [\"섭씨\", \"화씨\"],\n",
    "                        \"description\": \"온도 단위로 섭씨 혹은 화씨\",\n",
    "                    },\n",
    "                },\n",
    "                \"required\": [\"location\"], # 필수 입력 변수 지정\n",
    "            }\n",
    "        }\n",
    "    ]\n",
    "    \n",
    "    # 1단계: 사용자 입력과 함수 정보를 Chat Completions API 모델로 보내기\n",
    "    response = openai.ChatCompletion.create( # Chat Completions API 모델로 보내기\n",
    "        # model=\"gpt-3.5-turbo\"\n",
    "        model=\"gpt-3.5-turbo\",\n",
    "        messages=messages,\n",
    "        functions=functions,\n",
    "        function_call=\"auto\"\n",
    "    )\n",
    "    \n",
    "    # 2단계: 응답 생성\n",
    "    response_message = response[\"choices\"][0][\"message\"] # 모델의 응답 메시지\n",
    "    \n",
    "    if response_message.get(\"function_call\"): # 응답이 함수 호출인지 확인하기\n",
    "        # 3단계: JSON 객체를 분석해 함수 이름과 인수를 추출한 후에 함수 호출\n",
    "        # (주의: JSON 응답이 항상 유효하지 않을 수 있음)\n",
    "        \n",
    "        # 호출할 함수 이름을 지정\n",
    "        # (아래는 하나의 함수를 지정했지만 여러 함수 지정 가능)\n",
    "        available_functions = {\"get_current_weather\": get_current_weather}\n",
    "        \n",
    "        # 함수 이름 추출\n",
    "        function_name = response_message[\"function_call\"][\"name\"]\n",
    "        \n",
    "        # 호출할 함수 선택\n",
    "        function_to_call = available_functions[function_name]\n",
    "        \n",
    "        # 함수 호출을 위한 인수 추출\n",
    "        function_args = json.loads(response_message[\"function_call\"][\"arguments\"])\n",
    "        \n",
    "        # 함수 호출 및 반환 결과 받기\n",
    "        function_response = function_to_call(\n",
    "            location=function_args.get(\"location\"), # 인수 지정\n",
    "            unit=function_args.get(\"unit\")\n",
    "        )\n",
    "        print(\"[호출한 함수의 응답 결과]\\n\", function_response)\n",
    "        \n",
    "        # 4단계: 함수 호출 결과를 기존 메시지에 추가하고,\n",
    "        #        Chat Completions API 모델로 보내 응답받기\n",
    "        \n",
    "        # 함수 호출 결과를 기존 메시지에 추가히기\n",
    "        messages.append(response_message) # 기존 messages에 조력자 응답 추가\n",
    "        messages.append(                  # 함수와 함수 호출 결과 추가\n",
    "            {\n",
    "                \"role\": \"function\",       # roll: function으로 지정 \n",
    "                \"name\": function_name,    # name: 호출할 함수 이름 지정\n",
    "                \"content\": function_response, # content: 함수 호출 결과 지정\n",
    "            }\n",
    "        )\n",
    "        # 함수 호출 결과를 추가한 메시지를 Chat Completions API 모델로 보내 응답받기\n",
    "        second_response = openai.ChatCompletion.create(\n",
    "            # model=\"get-3.5-turbo\",\n",
    "            model=\"gpt-3.5-turbo\",\n",
    "            messages=messages,\n",
    "        )\n",
    "        return second_response # 두 번째 응답 반환\n",
    "    \n",
    "    return response_message # 응답 메시지 반환"
   ]
  },
  {
   "cell_type": "code",
   "execution_count": 33,
   "id": "0986aca8",
   "metadata": {},
   "outputs": [
    {
     "name": "stdout",
     "output_type": "stream",
     "text": [
      "[호출한 함수의 응답 결과]\n",
      " {\"location\": \"Suwon\", \"temperature\": 1.0, \"unit\": null, \"current weather\": \"Partly cloudy\", \"local time\": \"2024-03-13 2:40\"}\n",
      "[최종 응답 결과]\n",
      " 수원의 현재 날씨는 구름이 조금 끼여 있고 온도는 1도입니다.\n"
     ]
    }
   ],
   "source": [
    "user_query = \"현재 수원의 날씨는 어떠한가요?\"\n",
    "response = run_conversation(user_query)\n",
    "response_content = response[\"choices\"][0][\"message\"][\"content\"]\n",
    "\n",
    "print(\"[최종 응답 결과]\\n\",response_content)"
   ]
  },
  {
   "cell_type": "code",
   "execution_count": 34,
   "id": "6b009159",
   "metadata": {},
   "outputs": [
    {
     "data": {
      "text/plain": [
       "'{\"id\": \"chatcmpl-920QqanQIbfdY4xPn1TTMgzsdDLKi\", \"object\": \"chat.completion\", \"created\": 1710265344, \"model\": \"gpt-3.5-turbo-0125\", \"choices\": [{\"index\": 0, \"message\": {\"role\": \"assistant\", \"content\": \"수원의 현재 날씨는 구름이 조금 끼여 있고 온도는 1도입니다.\"}, \"logprobs\": null, \"finish_reason\": \"stop\"}], \"usage\": {\"prompt_tokens\": 97, \"completion_tokens\": 32, \"total_tokens\": 129}, \"system_fingerprint\": \"fp_4f0b692a78\"}'"
      ]
     },
     "execution_count": 34,
     "metadata": {},
     "output_type": "execute_result"
    }
   ],
   "source": [
    "json.dumps(response, ensure_ascii=False)"
   ]
  },
  {
   "cell_type": "code",
   "execution_count": 35,
   "id": "dff39775",
   "metadata": {},
   "outputs": [
    {
     "name": "stdout",
     "output_type": "stream",
     "text": [
      "[호출한 함수의 응답 결과]\n",
      " {\"location\": \"New York\", \"temperature\": 12.8, \"unit\": null, \"current weather\": \"Partly cloudy\", \"local time\": \"2024-03-12 13:40\"}\n",
      "[최종 응답 결과]\n",
      " 지금 뉴욕은 구름 많은 날씨이고 기온은 12.8°C 입니다. 현재 현지 시간은 오후 1시 40분입니다.\n"
     ]
    }
   ],
   "source": [
    "user_query = \"지금 뉴욕의 날씨는?\"\n",
    "response = run_conversation(user_query)\n",
    "response_content = response[\"choices\"][0][\"message\"][\"content\"]\n",
    "\n",
    "print(\"[최종 응답 결과]\\n\", response_content)"
   ]
  },
  {
   "cell_type": "code",
   "execution_count": 40,
   "id": "7a6c3006",
   "metadata": {},
   "outputs": [
    {
     "name": "stdout",
     "output_type": "stream",
     "text": [
      "[호출한 함수의 응답 결과]\n",
      " {\"location\": \"New York\", \"temperature\": 55.0, \"unit\": \"화씨\", \"current weather\": \"Partly cloudy\", \"local time\": \"2024-03-12 13:43\"}\n",
      "[최종 응답 결과]\n",
      " 현재 뉴욕의 날씨는 일부 구름이 끼어있으며, 기온은 55°F 입니다. 현재 현지 시각은 2024-03-12 13:43 입니다.\n"
     ]
    }
   ],
   "source": [
    "user_query = \" 현재 뉴욕의 날씨는? 온도는 화씨 표시\"\n",
    "response = run_conversation(user_query)\n",
    "response_content = response[\"choices\"][0][\"message\"][\"content\"]\n",
    "\n",
    "print(\"[최종 응답 결과]\\n\", response_content)"
   ]
  },
  {
   "cell_type": "code",
   "execution_count": 41,
   "id": "76135e0c",
   "metadata": {},
   "outputs": [
    {
     "name": "stdout",
     "output_type": "stream",
     "text": [
      "[호출한 함수의 응답 결과]\n",
      " {\"location\": \"Seoul\", \"temperature\": 1.0, \"unit\": null, \"current weather\": \"Clear\", \"local time\": \"2024-03-13 2:46\"}\n",
      "[최종 응답 결과]\n",
      " 서울의 현재 시각은 2024-03-13 2:46이며, 날씨는 맑고 온도는 1도입니다.\n"
     ]
    }
   ],
   "source": [
    "user_query = \" 서울의 현재 시각은?\"\n",
    "response = run_conversation(user_query)\n",
    "response_content = response[\"choices\"][0][\"message\"][\"content\"]\n",
    "\n",
    "print(\"[최종 응답 결과]\\n\", response_content)"
   ]
  },
  {
   "cell_type": "code",
   "execution_count": 43,
   "id": "ef7f9415",
   "metadata": {},
   "outputs": [
    {
     "name": "stdout",
     "output_type": "stream",
     "text": [
      "[호출한 함수의 응답 결과]\n",
      " {\"location\": \"Paris\", \"temperature\": 11.0, \"unit\": null, \"current weather\": \"Moderate rain\", \"local time\": \"2024-03-12 18:46\"}\n",
      "[최종 응답 결과]\n",
      " 파리는 현재 18:46 시입니다. (지역 시간 기준) 현재 기온은 11도이며, 비가 조금 오고 있습니다.\n"
     ]
    }
   ],
   "source": [
    "user_query = \" 파리는 지금 몇 시야?\"\n",
    "response = run_conversation(user_query)\n",
    "response_content = response[\"choices\"][0][\"message\"][\"content\"]\n",
    "\n",
    "print(\"[최종 응답 결과]\\n\", response_content)"
   ]
  },
  {
   "cell_type": "code",
   "execution_count": null,
   "id": "9915483a",
   "metadata": {},
   "outputs": [],
   "source": []
  },
  {
   "cell_type": "code",
   "execution_count": null,
   "id": "0f30a93b",
   "metadata": {},
   "outputs": [],
   "source": []
  },
  {
   "cell_type": "code",
   "execution_count": null,
   "id": "5d551733",
   "metadata": {},
   "outputs": [],
   "source": []
  }
 ],
 "metadata": {
  "kernelspec": {
   "display_name": "Python 3 (ipykernel)",
   "language": "python",
   "name": "python3"
  },
  "language_info": {
   "codemirror_mode": {
    "name": "ipython",
    "version": 3
   },
   "file_extension": ".py",
   "mimetype": "text/x-python",
   "name": "python",
   "nbconvert_exporter": "python",
   "pygments_lexer": "ipython3",
   "version": "3.11.5"
  }
 },
 "nbformat": 4,
 "nbformat_minor": 5
}
